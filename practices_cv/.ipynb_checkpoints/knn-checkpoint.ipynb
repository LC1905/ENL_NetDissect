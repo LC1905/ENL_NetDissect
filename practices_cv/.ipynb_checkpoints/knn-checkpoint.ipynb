{
 "cells": [
  {
   "cell_type": "code",
   "execution_count": 49,
   "metadata": {},
   "outputs": [],
   "source": [
    "import numpy as np\n",
    "import sys\n",
    "import os\n",
    "from PIL import Image, ImageStat\n",
    "import glob\n",
    "from matplotlib import pyplot as plt"
   ]
  },
  {
   "cell_type": "markdown",
   "metadata": {},
   "source": [
    "### Set global variables"
   ]
  },
  {
   "cell_type": "code",
   "execution_count": 2,
   "metadata": {},
   "outputs": [],
   "source": [
    "DATA_PATH = \"../cifar10_data\"\n",
    "LABEL_PATH = DATA_PATH + \"/cifar10/labels.txt\""
   ]
  },
  {
   "cell_type": "markdown",
   "metadata": {},
   "source": [
    "### Load labels"
   ]
  },
  {
   "cell_type": "code",
   "execution_count": 52,
   "metadata": {},
   "outputs": [],
   "source": [
    "def load_labels(file):\n",
    "    f = open(file, \"r\")\n",
    "    labels = {}\n",
    "    for i, label in enumerate(f):\n",
    "        labels[i] = label.split()[0]\n",
    "    return labels"
   ]
  },
  {
   "cell_type": "code",
   "execution_count": 53,
   "metadata": {},
   "outputs": [],
   "source": [
    "labels = load_labels(LABEL_PATH)"
   ]
  },
  {
   "cell_type": "code",
   "execution_count": 54,
   "metadata": {},
   "outputs": [
    {
     "name": "stdout",
     "output_type": "stream",
     "text": [
      "{0: 'airplane', 1: 'automobile', 2: 'bird', 3: 'cat', 4: 'deer', 5: 'dog', 6: 'frog', 7: 'horse', 8: 'ship', 9: 'truck'}\n"
     ]
    }
   ],
   "source": [
    "print(labels)"
   ]
  },
  {
   "cell_type": "markdown",
   "metadata": {},
   "source": [
    "### Load train/test data"
   ]
  },
  {
   "cell_type": "code",
   "execution_count": 59,
   "metadata": {},
   "outputs": [],
   "source": [
    "def load_data(mode, labels):\n",
    "    label_list = []\n",
    "    image_id = []\n",
    "    image_pix = []\n",
    "    keys = labels.keys()\n",
    "    for i in keys:\n",
    "        print(\"loading \" + labels[i])\n",
    "        for file in glob.iglob(os.path.join(DATA_PATH, mode, labels[i], \"*.png\")):\n",
    "            im = Image.open(file)\n",
    "            image_id.append(im)\n",
    "            pix = np.array(im.getdata()).ravel()\n",
    "            image_pix.append(pix)\n",
    "            label_list.append(i)\n",
    "    return label_list, image_id, np.asarray(image_pix)"
   ]
  },
  {
   "cell_type": "code",
   "execution_count": 51,
   "metadata": {},
   "outputs": [
    {
     "name": "stdout",
     "output_type": "stream",
     "text": [
      "loading airplane\n",
      "loading automobile\n",
      "loading bird\n",
      "loading cat\n",
      "loading deer\n",
      "loading dog\n",
      "loading frog\n",
      "loading horse\n",
      "loading ship\n",
      "loading truck\n"
     ]
    }
   ],
   "source": [
    "train_label, train_id, train_pix = load_data(\"train\", labels)"
   ]
  },
  {
   "cell_type": "code",
   "execution_count": 44,
   "metadata": {},
   "outputs": [
    {
     "name": "stdout",
     "output_type": "stream",
     "text": [
      "50000 = 50000 = 50000\n"
     ]
    }
   ],
   "source": [
    "t0_label = train_label[0]\n",
    "t0_id = train_id[0]\n",
    "t0_pix = train_pix[0]\n",
    "print(len(train_label), \"=\", len(train_id), \"=\", len(train_pix))"
   ]
  },
  {
   "cell_type": "code",
   "execution_count": 46,
   "metadata": {},
   "outputs": [
    {
     "name": "stdout",
     "output_type": "stream",
     "text": [
      "airplane\n",
      "<PIL.PngImagePlugin.PngImageFile image mode=RGB size=32x32 at 0x7F7ECBBDC8D0>\n",
      "[123 154 174 ... 138 131 142]\n"
     ]
    },
    {
     "data": {
      "image/png": "[encoded data removed]",
      "text/plain": [
       "<PIL.PngImagePlugin.PngImageFile image mode=RGB size=32x32 at 0x7F7ECBBDC8D0>"
      ]
     },
     "execution_count": 46,
     "metadata": {},
     "output_type": "execute_result"
    }
   ],
   "source": [
    "print(t0_label)\n",
    "print(t0_id)\n",
    "print(t0_pix)\n",
    "t0_id"
   ]
  },
  {
   "cell_type": "code",
   "execution_count": 60,
   "metadata": {},
   "outputs": [
    {
     "name": "stdout",
     "output_type": "stream",
     "text": [
      "loading airplane\n",
      "loading automobile\n",
      "loading bird\n",
      "loading cat\n",
      "loading deer\n",
      "loading dog\n",
      "loading frog\n",
      "loading horse\n",
      "loading ship\n",
      "loading truck\n"
     ]
    }
   ],
   "source": [
    "test_label, test_id, test_pix = load_data(\"test\", labels)"
   ]
  },
  {
   "cell_type": "markdown",
   "metadata": {},
   "source": [
    "### Predict"
   ]
  },
  {
   "cell_type": "code",
   "execution_count": 61,
   "metadata": {},
   "outputs": [],
   "source": [
    "def l1(p1, p2):\n",
    "    length = len(p1)\n",
    "    return sum([abs(p1[i] - p2[i]) for i in range(length)])"
   ]
  },
  {
   "cell_type": "code",
   "execution_count": 106,
   "metadata": {},
   "outputs": [],
   "source": [
    "def predict(train_label, train_id, train_pix, image_pix, dist_fc, k=1):\n",
    "    distances = np.array([dist_fc(pix, image_pix) for pix in train_pix])\n",
    "    min_indices = np.argsort(distances)[:k]\n",
    "    min_id = [train_id[ind] for ind in min_indices]\n",
    "    min_labels = np.array([train_label[ind] for ind in min_indices])\n",
    "    pred_label = np.argmax(np.bincount(min_labels))\n",
    "    return pred_label, min_id"
   ]
  },
  {
   "cell_type": "code",
   "execution_count": 82,
   "metadata": {},
   "outputs": [],
   "source": [
    "image_pix = test_pix[0]\n",
    "image_id = test_id[0]\n",
    "image_label = test_label[0]"
   ]
  },
  {
   "cell_type": "code",
   "execution_count": 83,
   "metadata": {},
   "outputs": [
    {
     "name": "stdout",
     "output_type": "stream",
     "text": [
      "[ 1718  2887  2003 12168  4758 41061 41571  3303  1832 11942]\n"
     ]
    }
   ],
   "source": [
    "predict, min_id = predict(train_label, train_id, train_pix, image_pix, l1, k=10)"
   ]
  },
  {
   "cell_type": "code",
   "execution_count": 99,
   "metadata": {},
   "outputs": [
    {
     "data": {
      "text/plain": [
       "<matplotlib.image.AxesImage at 0x7f7ec6881ef0>"
      ]
     },
     "execution_count": 99,
     "metadata": {},
     "output_type": "execute_result"
    },
    {
     "data": {
      "image/png": "[encoded data removed]",
      "text/plain": [
       "<Figure size 432x288 with 1 Axes>"
      ]
     },
     "metadata": {},
     "output_type": "display_data"
    }
   ],
   "source": [
    "plt.imshow(min_id[0])"
   ]
  },
  {
   "cell_type": "markdown",
   "metadata": {},
   "source": [
    "### Test"
   ]
  },
  {
   "cell_type": "code",
   "execution_count": 107,
   "metadata": {},
   "outputs": [],
   "source": [
    "def test(test_data, train_data, k, dist_fc):\n",
    "    test_label, test_id, test_pix = test_data\n",
    "    train_label, train_id, train_pix = train_data\n",
    "    correct = 0\n",
    "    total = 0\n",
    "    correct_prediction = []\n",
    "    false_prediction = []\n",
    "    for i, image_pix in enumerate(test_pix):\n",
    "        prediction, _ = predict(train_label, train_id, train_pix, image_pix, dist_fc, 7)\n",
    "        if prediction == test_label[i]:\n",
    "            correct += 1\n",
    "            correct_prediction.append(i)\n",
    "        else:\n",
    "            false_prediction.append(i)\n",
    "        total += 1\n",
    "        if i % 100 == 0:\n",
    "            print(\"correct = {}, total = {}, accuracy: {}%\".format(correct, total, (correct / total) * 100))\n",
    "    print(\"final accuracy: {}%\".format((correct / total) * 100))\n",
    "    return correct_prediction, false_prediction"
   ]
  },
  {
   "cell_type": "code",
   "execution_count": 108,
   "metadata": {},
   "outputs": [
    {
     "name": "stdout",
     "output_type": "stream",
     "text": [
      "[ 1718  2887  2003 12168  4758 41061 41571]\n"
     ]
    },
    {
     "ename": "UnboundLocalError",
     "evalue": "local variable 'total' referenced before assignment",
     "output_type": "error",
     "traceback": [
      "\u001b[0;31m---------------------------------------------------------------------------\u001b[0m",
      "\u001b[0;31mUnboundLocalError\u001b[0m                         Traceback (most recent call last)",
      "\u001b[0;32m<ipython-input-108-c66b033dc53a>\u001b[0m in \u001b[0;36m<module>\u001b[0;34m()\u001b[0m\n\u001b[0;32m----> 1\u001b[0;31m \u001b[0mcp\u001b[0m\u001b[0;34m,\u001b[0m \u001b[0mfp\u001b[0m \u001b[0;34m=\u001b[0m \u001b[0mtest\u001b[0m\u001b[0;34m(\u001b[0m\u001b[0;34m(\u001b[0m\u001b[0mtest_label\u001b[0m\u001b[0;34m,\u001b[0m \u001b[0mtest_id\u001b[0m\u001b[0;34m,\u001b[0m \u001b[0mtest_pix\u001b[0m\u001b[0;34m)\u001b[0m\u001b[0;34m,\u001b[0m \u001b[0;34m(\u001b[0m\u001b[0mtrain_label\u001b[0m\u001b[0;34m,\u001b[0m \u001b[0mtrain_id\u001b[0m\u001b[0;34m,\u001b[0m \u001b[0mtrain_pix\u001b[0m\u001b[0;34m)\u001b[0m\u001b[0;34m,\u001b[0m \u001b[0;36m7\u001b[0m\u001b[0;34m,\u001b[0m \u001b[0ml1\u001b[0m\u001b[0;34m)\u001b[0m\u001b[0;34m\u001b[0m\u001b[0m\n\u001b[0m",
      "\u001b[0;32m<ipython-input-107-fdecc86a8bfe>\u001b[0m in \u001b[0;36mtest\u001b[0;34m(test_data, train_data, k, dist_fc)\u001b[0m\n\u001b[1;32m     12\u001b[0m         \u001b[0;32melse\u001b[0m\u001b[0;34m:\u001b[0m\u001b[0;34m\u001b[0m\u001b[0m\n\u001b[1;32m     13\u001b[0m             \u001b[0mfalse_prediction\u001b[0m\u001b[0;34m.\u001b[0m\u001b[0mappend\u001b[0m\u001b[0;34m(\u001b[0m\u001b[0mi\u001b[0m\u001b[0;34m)\u001b[0m\u001b[0;34m\u001b[0m\u001b[0m\n\u001b[0;32m---> 14\u001b[0;31m         \u001b[0mtotal\u001b[0m \u001b[0;34m+=\u001b[0m \u001b[0;36m1\u001b[0m\u001b[0;34m\u001b[0m\u001b[0m\n\u001b[0m\u001b[1;32m     15\u001b[0m         \u001b[0;32mif\u001b[0m \u001b[0mi\u001b[0m \u001b[0;34m%\u001b[0m \u001b[0;36m100\u001b[0m \u001b[0;34m==\u001b[0m \u001b[0;36m0\u001b[0m\u001b[0;34m:\u001b[0m\u001b[0;34m\u001b[0m\u001b[0m\n\u001b[1;32m     16\u001b[0m             \u001b[0mprint\u001b[0m\u001b[0;34m(\u001b[0m\u001b[0;34m\"correct = {}, total = {}, accuracy: {}%\"\u001b[0m\u001b[0;34m.\u001b[0m\u001b[0mformat\u001b[0m\u001b[0;34m(\u001b[0m\u001b[0mcorrect\u001b[0m\u001b[0;34m,\u001b[0m \u001b[0mtotal\u001b[0m\u001b[0;34m,\u001b[0m \u001b[0;34m(\u001b[0m\u001b[0mcorrect\u001b[0m \u001b[0;34m/\u001b[0m \u001b[0mtotal\u001b[0m\u001b[0;34m)\u001b[0m \u001b[0;34m*\u001b[0m \u001b[0;36m100\u001b[0m\u001b[0;34m)\u001b[0m\u001b[0;34m)\u001b[0m\u001b[0;34m\u001b[0m\u001b[0m\n",
      "\u001b[0;31mUnboundLocalError\u001b[0m: local variable 'total' referenced before assignment"
     ]
    }
   ],
   "source": [
    "cp, fp = test((test_label, test_id, test_pix), (train_label, train_id, train_pix), 7, l1)"
   ]
  }
 ],
 "metadata": {
  "kernelspec": {
   "display_name": "Python [default]",
   "language": "python",
   "name": "python3"
  },
  "language_info": {
   "codemirror_mode": {
    "name": "ipython",
    "version": 3
   },
   "file_extension": ".py",
   "mimetype": "text/x-python",
   "name": "python",
   "nbconvert_exporter": "python",
   "pygments_lexer": "ipython3",
   "version": "3.6.5"
  }
 },
 "nbformat": 4,
 "nbformat_minor": 2
}
