{
 "cells": [
  {
   "cell_type": "code",
   "execution_count": 49,
   "metadata": {},
   "outputs": [],
   "source": [
    "import numpy as np\n",
    "import sys\n",
    "import os\n",
    "from PIL import Image, ImageStat\n",
    "import glob\n",
    "from matplotlib import pyplot as plt"
   ]
  },
  {
   "cell_type": "markdown",
   "metadata": {},
   "source": [
    "### Set global variables"
   ]
  },
  {
   "cell_type": "code",
   "execution_count": 2,
   "metadata": {},
   "outputs": [],
   "source": [
    "DATA_PATH = \"../cifar10_data\"\n",
    "LABEL_PATH = DATA_PATH + \"/cifar10/labels.txt\""
   ]
  },
  {
   "cell_type": "markdown",
   "metadata": {},
   "source": [
    "### Load labels"
   ]
  },
  {
   "cell_type": "code",
   "execution_count": 52,
   "metadata": {},
   "outputs": [],
   "source": [
    "def load_labels(file):\n",
    "    f = open(file, \"r\")\n",
    "    labels = {}\n",
    "    for i, label in enumerate(f):\n",
    "        labels[i] = label.split()[0]\n",
    "    return labels"
   ]
  },
  {
   "cell_type": "code",
   "execution_count": 53,
   "metadata": {},
   "outputs": [],
   "source": [
    "labels = load_labels(LABEL_PATH)"
   ]
  },
  {
   "cell_type": "code",
   "execution_count": 54,
   "metadata": {},
   "outputs": [
    {
     "name": "stdout",
     "output_type": "stream",
     "text": [
      "{0: 'airplane', 1: 'automobile', 2: 'bird', 3: 'cat', 4: 'deer', 5: 'dog', 6: 'frog', 7: 'horse', 8: 'ship', 9: 'truck'}\n"
     ]
    }
   ],
   "source": [
    "print(labels)"
   ]
  },
  {
   "cell_type": "markdown",
   "metadata": {},
   "source": [
    "### Load train/test data"
   ]
  },
  {
   "cell_type": "code",
   "execution_count": 59,
   "metadata": {},
   "outputs": [],
   "source": [
    "def load_data(mode, labels):\n",
    "    label_list = []\n",
    "    image_id = []\n",
    "    image_pix = []\n",
    "    keys = labels.keys()\n",
    "    for i in keys:\n",
    "        print(\"loading \" + labels[i])\n",
    "        for file in glob.iglob(os.path.join(DATA_PATH, mode, labels[i], \"*.png\")):\n",
    "            im = Image.open(file)\n",
    "            image_id.append(im)\n",
    "            pix = np.array(im.getdata()).ravel()\n",
    "            image_pix.append(pix)\n",
    "            label_list.append(i)\n",
    "    return label_list, image_id, np.asarray(image_pix)"
   ]
  },
  {
   "cell_type": "code",
   "execution_count": 51,
   "metadata": {},
   "outputs": [
    {
     "name": "stdout",
     "output_type": "stream",
     "text": [
      "loading airplane\n",
      "loading automobile\n",
      "loading bird\n",
      "loading cat\n",
      "loading deer\n",
      "loading dog\n",
      "loading frog\n",
      "loading horse\n",
      "loading ship\n",
      "loading truck\n"
     ]
    }
   ],
   "source": [
    "train_label, train_id, train_pix = load_data(\"train\", labels)"
   ]
  },
  {
   "cell_type": "code",
   "execution_count": 44,
   "metadata": {},
   "outputs": [
    {
     "name": "stdout",
     "output_type": "stream",
     "text": [
      "50000 = 50000 = 50000\n"
     ]
    }
   ],
   "source": [
    "t0_label = train_label[0]\n",
    "t0_id = train_id[0]\n",
    "t0_pix = train_pix[0]\n",
    "print(len(train_label), \"=\", len(train_id), \"=\", len(train_pix))"
   ]
  },
  {
   "cell_type": "code",
   "execution_count": 46,
   "metadata": {},
   "outputs": [
    {
     "name": "stdout",
     "output_type": "stream",
     "text": [
      "airplane\n",
      "<PIL.PngImagePlugin.PngImageFile image mode=RGB size=32x32 at 0x7F7ECBBDC8D0>\n",
      "[123 154 174 ... 138 131 142]\n"
     ]
    },
    {
     "data": {
      "image/png": "[encoded data removed]",
      "text/plain": [
       "<PIL.PngImagePlugin.PngImageFile image mode=RGB size=32x32 at 0x7F7ECBBDC8D0>"
      ]
     },
     "execution_count": 46,
     "metadata": {},
     "output_type": "execute_result"
    }
   ],
   "source": [
    "print(t0_label)\n",
    "print(t0_id)\n",
    "print(t0_pix)\n",
    "t0_id"
   ]
  },
  {
   "cell_type": "code",
   "execution_count": 60,
   "metadata": {},
   "outputs": [
    {
     "name": "stdout",
     "output_type": "stream",
     "text": [
      "loading airplane\n",
      "loading automobile\n",
      "loading bird\n",
      "loading cat\n",
      "loading deer\n",
      "loading dog\n",
      "loading frog\n",
      "loading horse\n",
      "loading ship\n",
      "loading truck\n"
     ]
    }
   ],
   "source": [
    "test_label, test_id, test_pix = load_data(\"test\", labels)"
   ]
  },
  {
   "cell_type": "markdown",
   "metadata": {},
   "source": [
    "### Predict"
   ]
  },
  {
   "cell_type": "code",
   "execution_count": 61,
   "metadata": {},
   "outputs": [],
   "source": [
    "def l1(p1, p2):\n",
    "    length = len(p1)\n",
    "    return sum([abs(p1[i] - p2[i]) for i in range(length)])"
   ]
  },
  {
   "cell_type": "code",
   "execution_count": 106,
   "metadata": {},
   "outputs": [],
   "source": [
    "def predict(train_label, train_id, train_pix, image_pix, dist_fc, k=1):\n",
    "    distances = np.array([dist_fc(pix, image_pix) for pix in train_pix])\n",
    "    min_indices = np.argsort(distances)[:k]\n",
    "    min_id = [train_id[ind] for ind in min_indices]\n",
    "    min_labels = np.array([train_label[ind] for ind in min_indices])\n",
    "    pred_label = np.argmax(np.bincount(min_labels))\n",
    "    return pred_label, min_id"
   ]
  },
  {
   "cell_type": "code",
   "execution_count": 82,
   "metadata": {},
   "outputs": [],
   "source": [
    "image_pix = test_pix[0]\n",
    "image_id = test_id[0]\n",
    "image_label = test_label[0]"
   ]
  },
  {
   "cell_type": "code",
   "execution_count": 83,
   "metadata": {},
   "outputs": [
    {
     "name": "stdout",
     "output_type": "stream",
     "text": [
      "[ 1718  2887  2003 12168  4758 41061 41571  3303  1832 11942]\n"
     ]
    }
   ],
   "source": [
    "predict, min_id = predict(train_label, train_id, train_pix, image_pix, l1, k=10)"
   ]
  },
  {
   "cell_type": "code",
   "execution_count": 99,
   "metadata": {},
   "outputs": [
    {
     "data": {
      "text/plain": [
       "<matplotlib.image.AxesImage at 0x7f7ec6881ef0>"
      ]
     },
     "execution_count": 99,
     "metadata": {},
     "output_type": "execute_result"
    },
    {
     "data": {
      "image/png": "[encoded data removed]",
      "text/plain": [
       "<Figure size 432x288 with 1 Axes>"
      ]
     },
     "metadata": {},
     "output_type": "display_data"
    }
   ],
   "source": [
    "plt.imshow(min_id[0])"
   ]
  },
  {
   "cell_type": "markdown",
   "metadata": {},
   "source": [
    "### Test"
   ]
  },
  {
   "cell_type": "code",
   "execution_count": 109,
   "metadata": {},
   "outputs": [],
   "source": [
    "def test(test_data, train_data, k, dist_fc):\n",
    "    test_label, test_id, test_pix = test_data\n",
    "    train_label, train_id, train_pix = train_data\n",
    "    correct = 0\n",
    "    total = 0\n",
    "    correct_prediction = []\n",
    "    false_prediction = []\n",
    "    for i, image_pix in enumerate(test_pix):\n",
    "        prediction, _ = predict(train_label, train_id, train_pix, image_pix, dist_fc, 7)\n",
    "        if prediction == test_label[i]:\n",
    "            correct += 1\n",
    "            correct_prediction.append(i)\n",
    "        else:\n",
    "            false_prediction.append(i)\n",
    "        total += 1\n",
    "        if i % 100 == 0:\n",
    "            print(\"correct = {}, total = {}, accuracy: {}%\".format(correct, total, (correct / total) * 100))\n",
    "    print(\"final accuracy: {}%\".format((correct / total) * 100))\n",
    "    return correct_prediction, false_prediction"
   ]
  },
  {
   "cell_type": "code",
   "execution_count": null,
   "metadata": {},
   "outputs": [
    {
     "name": "stdout",
     "output_type": "stream",
     "text": [
      "[ 1718  2887  2003 12168  4758 41061 41571]\n",
      "correct = 1, total = 1, accuracy: 100.0%\n",
      "[41851 43314 12021  9071 14013  6291 43880]\n",
      "[  910 32392   685 19727  3923  1792 19121]\n",
      "[ 3684 21092 12406 13129 47245 11591 12688]\n",
      "[ 2058 43935 44253 44466 44155 44938 43061]\n",
      "[39637   598 42099  3204  2262 44253 44938]\n",
      "[ 4287  3018   999 21832 45434  2019  4990]\n",
      "[ 4062 19413  6482  8381   836 42590 41238]\n",
      "[ 7855 31271  4856  9138  9328  5418 12357]\n",
      "[41099 41953 13336 44693  3611 11483 40523]\n",
      "[42104 43260  9129   884  1849  1628 42194]\n",
      "[43611  3211 43597 42233 43174 40996 41334]\n",
      "[ 1463  4278  3599   534 11093  9262 31271]\n",
      "[41642 43815  1628  1758 41601 40703  9625]\n",
      "[  828  1076 40824   183  3028 40784 42183]\n",
      "[44832 21407 41711  4587 41380 40107 13978]\n",
      "[ 3332  2290 42502  1818  1585  2389  1797]\n",
      "[  168   718 11651 12547 29217 14546   885]\n",
      "[ 2717 21832  3018   512 13806  3565  5566]\n",
      "[40134  2877 44620 40253 40087 41975  4392]\n",
      "[ 4414  2898 43666  9397 44860 41771  3961]\n",
      "[  596 12669 21271 23380 24648 24336 13551]\n",
      "[25356 30476 12148 16630 32773 33375  1234]\n",
      "[  184 44605  3445  1044  2559  1083 16700]\n",
      "[ 3599  3280   513  3234  3584 28202 21832]\n",
      "[11248   906 31908 30680 14356  4743 32389]\n",
      "[ 3109  3411  1282  1821  3150  2357 43564]\n",
      "[12579 42702 11483  2155 13336 34480 14934]\n",
      "[ 4022  3925  2785 42511 43974  2052  1764]\n",
      "[ 3953 42896  3022 41055  3335  1582  2117]\n",
      "[ 4954 11145 11234  1506   231 12614  2225]\n",
      "[ 4010 12579   894  2155 40332 31224 12263]\n",
      "[ 3099 27952 12169 21569 11006 33170  4796]\n",
      "[  853  3818  4707 11837  1589  1373  3920]\n",
      "[ 3133  1143 13917  2702  1498 42855  4719]\n",
      "[41719  4913  3401  4499  3596 44674  3139]\n",
      "[ 3908 43619  1603   794   829  2491 12433]\n",
      "[44023 43171 41173 43894 44946  1580 43810]\n",
      "[ 2574 35733 20708 20160 39116 24412 32243]\n",
      "[ 3875   548  2288  4396  3294 12168  4083]\n",
      "[40824    13  4123 11159  3724  2787 13065]\n",
      "[ 4539 12214  4589  3360  4205  4348  4211]\n",
      "[10254  1976 41252 31005  4969 41972  1615]\n",
      "[   13 11571 13782  1994  2894  2085  2836]\n",
      "[24089   384 33711 42475   286 11145 44083]\n",
      "[ 523  177 1272 2170 1717 3785    0]\n",
      "[ 2778  4280  1584  2688 33987  6037  1247]\n",
      "[2396 2321 1979 2076 4377  368  310]\n",
      "[ 3365  2182 10243    57  3439 10546 28076]\n",
      "[  710 41037 43757 43992  4180   230  1246]\n",
      "[2396  368 4377 2321 3157 2076 3669]\n",
      "[43450 40085 41638 43224 43663 42795   298]\n",
      "[ 1363 42901 40051  2170  1272   664 40084]\n",
      "[13409 19700 27272 18082 32668 36032  2449]\n",
      "[22608 22754 37416 20844 21105 20577 36936]\n",
      "[ 2085  1177 22521   643 43595     3  1994]\n",
      "[ 3388  4195 13154 42228  3532 31271   980]\n",
      "[12214  4539  4211  2021 14384  4204 14848]\n",
      "[10254  1361 12614    32   231   428  4728]\n",
      "[30884  3329 31908 18346  4036 30532 10157]\n",
      "[40874 44934 42862 41692 40691 40236  2851]\n",
      "[3487 1014 4143 4748 4616 3703 3656]\n",
      "[4776 4608 3798 2830 1052  320 3120]\n",
      "[  299  1076  4554 30110  1692 40824 14791]\n",
      "[ 1652 43666  8322  2047 24132  3961   993]\n",
      "[  459  3360  4589    70  4348  1538 12737]\n",
      "[ 4204 43511 10205 40740  1034 40298  2055]\n",
      "[  39 2148 2171 1339  927  757 4571]\n",
      "[30237 17247 43884 33872 34517 24609 12388]\n",
      "[  549  3028   383  1590 10853 12367  2896]\n",
      "[ 2016  2248  4000 10653  1793  2568  2984]\n",
      "[10672 31416 37770 14320 20952 29730 13933]\n",
      "[ 4714 14183 41633  1637 12946 40390 10815]\n",
      "[ 3365 10243  2182 10546  2236  3267  2017]\n",
      "[  394  6656 10248   374  2833 41282 43565]\n",
      "[22196 14866 20047 12484 12431 23413 21988]\n",
      "[20752 33306  5788 30496 34375 15103 10969]\n",
      "[ 4214  1556  2115    39   383 40713  1349]\n",
      "[3360   71 4539 4348 4589 1509 1590]\n",
      "[  515 21407  1951 14085  4133 25267 34007]\n",
      "[ 1589  2912  1351  4707 11837 10149  3746]\n",
      "[2148   39  310 1480 1969 2231  887]\n",
      "[21313 13865 11144 36149 14362 11157 13489]\n",
      "[ 1264  1049  4701  4027  2815 41356  1115]\n",
      "[  565 44460 44988  1202 11344   302 43518]\n",
      "[  589   649  4824  4914 20690 21138 24339]\n",
      "[ 2232  3427    60 15222 43808  3656  4114]\n",
      "[47307 34324 29910 25562 27146 32654 49650]\n",
      "[ 1873  3928  1590  1151 23403  3724    70]\n",
      "[ 2057  2893 43386 41465 24577  4719 20454]\n",
      "[ 1519  2698 11047 41794   630  2040  4720]\n",
      "[47307 49650 38262 30427 45754 28319 46047]\n",
      "[1593 3365 2252 9328 2182 4148   57]\n",
      "[ 4727  1329   994 10330 44517 42834  1144]\n",
      "[4608 1052 2274 4704 3798 3121 3561]\n",
      "[4608    2 1052 3121 2274 4831 2980]\n",
      "correct = 72, total = 101, accuracy: 71.28712871287128%\n",
      "[3570   18 3023 3849 1589 3121 2758]\n",
      "[2274 4608 3798 3450 1052 1877 4776]\n",
      "[20336   592 29702 29545 42654  2777 41334]\n",
      "[13044 43434 19947 37376 11772 25660 34242]\n",
      "[ 3735  3324  4900 10668  1461 11202  3780]\n",
      "[22362 16853 21423 24694 44674 43758 11259]\n",
      "[44239 44244  1777 41629 43289  3139 41719]\n",
      "[24308 42621 43002 42978  4626  2304 40740]\n",
      "[ 1114 11748  1097  4651  1012  4050  4574]\n",
      "[ 3028   549  2239   383  2896 12367    70]\n",
      "[ 4539    26 14848 14534 12214 14384   114]\n",
      "[ 2130  2197  1600  2554  7469 17169 15852]\n",
      "[ 1937 46977 47932 36072 46873 35540 40708]\n",
      "[1717 1126 2036 3401 1076 4913 1846]\n",
      "[ 2376 43690  1154 43469 13886 43379 44168]\n",
      "[20120 14511 38021 13588 15848 14277 12887]\n",
      "[  854  1863 28070    78  3923 17156 15949]\n",
      "[41156 47151 43541 41967 34065 44253 32297]\n",
      "[ 1480   368  4582  3197 10552   310   468]\n",
      "[43511 40022 42978 43540 43527 44297 41170]\n",
      "[24407 48588 22004 40430 40508 41156 21577]\n",
      "[ 4710 40368 46415 24735 47989 43248 47185]\n",
      "[    0  2594  3713 44256  2021 41682  3805]\n",
      "[14709 21154 20543 24027 13862 11737 27602]\n",
      "[ 3959  4423 47811   846 40022 43527  4279]\n",
      "[31660 32489 43489 10881 41972 40434 41975]\n",
      "[ 1683 42228   813  3388 17224 20563 26245]\n",
      "[44383  1159  2060 44010 41650 43180   777]\n",
      "[22072 40289   643  4746 41460 41829 11533]\n",
      "[ 1777 44239 44008 41735 22328 13512 41975]\n",
      "[3294 2034 2288 3875  304  548 4720]\n",
      "[42753 20035  2582  4227 40997 12627 42919]\n",
      "[ 6989 43396 30691  1766  6543 27272 49238]\n",
      "[ 548 4171 3875 3294  500 2288 4083]\n",
      "[48819 21144 24631  3432  6651 45268 40551]\n",
      "[ 4123 11159 43758 31084 40824   156    13]\n",
      "[25260 10545 24814 25019 20690 23203 22514]\n",
      "[32990   300  4655 43272 41881 15961   786]\n",
      "[26929 30400 26322  1432 13385  1022 38392]\n",
      "[10835 13667 14410  2055 11292  1626  3416]\n",
      "[11376  3561  2830  4776  2924   320  2589]\n",
      "[2242 3424 4604 4720  953 3623 4695]\n",
      "[14225  3484 21307  2938 44297   137 10815]\n",
      "[ 4417  3445 40751  2950  2852 11145 13095]\n",
      "[ 2239  2896  3692 11533   883 12367    70]\n",
      "[11772 11952 17850 20776 40267 20346 12039]\n",
      "[ 4804 18236 23477 21307 16181 19291 33738]\n",
      "[  851   355  3941 44317 41623  1266 44626]\n"
     ]
    }
   ],
   "source": [
    "cp, fp = test((test_label, test_id, test_pix), (train_label, train_id, train_pix), 7, l1)"
   ]
  }
 ],
 "metadata": {
  "kernelspec": {
   "display_name": "Python [default]",
   "language": "python",
   "name": "python3"
  },
  "language_info": {
   "codemirror_mode": {
    "name": "ipython",
    "version": 3
   },
   "file_extension": ".py",
   "mimetype": "text/x-python",
   "name": "python",
   "nbconvert_exporter": "python",
   "pygments_lexer": "ipython3",
   "version": "3.6.5"
  }
 },
 "nbformat": 4,
 "nbformat_minor": 2
}
